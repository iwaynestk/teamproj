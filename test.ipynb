{
 "cells": [
  {
   "cell_type": "code",
   "execution_count": 1,
   "metadata": {},
   "outputs": [],
   "source": [
    "import pandas as pd\n",
    "import numpy as np\n",
    "from math import sqrt, exp, log\n",
    "from scipy.stats import norm\n",
    "from strGenerator import riskStrGenerator, paramStrGenerator\n",
    "import dataFactory\n",
    "import matplotlib.pyplot as plt\n",
    "from wiener import wiener"
   ]
  },
  {
   "cell_type": "code",
   "execution_count": 2,
   "metadata": {},
   "outputs": [],
   "source": [
    "tickerList = ['AAPL', 'MSFT', 'IBM']\n",
    "rtnList = []\n",
    "for i in range(len(tickerList)): \n",
    "    rtnList.append(paramStrGenerator(tickerList[i], 'logRtn'))\n",
    "\n",
    "df = pd.DataFrame(np.random.rand(1000, 3), columns = rtnList)\n",
    "df_covm = dataFactory.covm(df, tickerList)"
   ]
  },
  {
   "cell_type": "code",
   "execution_count": 8,
   "metadata": {},
   "outputs": [
    {
     "data": {
      "text/html": [
       "<div>\n",
       "<style scoped>\n",
       "    .dataframe tbody tr th:only-of-type {\n",
       "        vertical-align: middle;\n",
       "    }\n",
       "\n",
       "    .dataframe tbody tr th {\n",
       "        vertical-align: top;\n",
       "    }\n",
       "\n",
       "    .dataframe thead th {\n",
       "        text-align: right;\n",
       "    }\n",
       "</style>\n",
       "<table border=\"1\" class=\"dataframe\">\n",
       "  <thead>\n",
       "    <tr style=\"text-align: right;\">\n",
       "      <th></th>\n",
       "      <th>AAPL_logRtn</th>\n",
       "      <th>MSFT_logRtn</th>\n",
       "      <th>IBM_logRtn</th>\n",
       "    </tr>\n",
       "  </thead>\n",
       "  <tbody>\n",
       "    <tr>\n",
       "      <th>AAPL_logRtn</th>\n",
       "      <td>0.080917</td>\n",
       "      <td>-0.004147</td>\n",
       "      <td>0.002776</td>\n",
       "    </tr>\n",
       "    <tr>\n",
       "      <th>MSFT_logRtn</th>\n",
       "      <td>-0.004147</td>\n",
       "      <td>0.089307</td>\n",
       "      <td>-0.002805</td>\n",
       "    </tr>\n",
       "    <tr>\n",
       "      <th>IBM_logRtn</th>\n",
       "      <td>0.002776</td>\n",
       "      <td>-0.002805</td>\n",
       "      <td>0.080909</td>\n",
       "    </tr>\n",
       "  </tbody>\n",
       "</table>\n",
       "</div>"
      ],
      "text/plain": [
       "             AAPL_logRtn  MSFT_logRtn  IBM_logRtn\n",
       "AAPL_logRtn     0.080917    -0.004147    0.002776\n",
       "MSFT_logRtn    -0.004147     0.089307   -0.002805\n",
       "IBM_logRtn      0.002776    -0.002805    0.080909"
      ]
     },
     "execution_count": 8,
     "metadata": {},
     "output_type": "execute_result"
    }
   ],
   "source": [
    "df_covm.loc[500]"
   ]
  },
  {
   "cell_type": "code",
   "execution_count": 7,
   "metadata": {},
   "outputs": [
    {
     "data": {
      "image/png": "[encoded data removed]",
      "text/plain": [
       "<Figure size 432x288 with 3 Axes>"
      ]
     },
     "metadata": {
      "needs_background": "light"
     },
     "output_type": "display_data"
    }
   ],
   "source": [
    "import numpy as np\n",
    "import matplotlib.pyplot as plt\n",
    "\n",
    "\n",
    "num_samples = 400\n",
    "\n",
    "# The desired mean values of the sample.\n",
    "mu = np.array([0.0, 0.0, 0.0])\n",
    "\n",
    "# The desired covariance matrix.\n",
    "r = np.array([\n",
    "        [  3.40, -2.75, -2.00],\n",
    "        [ -2.75,  5.50,  1.50],\n",
    "        [ -2.00,  1.50,  1.25]\n",
    "    ])\n",
    "\n",
    "# Generate the random samples.\n",
    "y = np.random.multivariate_normal(mu, r, size=num_samples)\n",
    "\n",
    "\n",
    "# Plot various projections of the samples.\n",
    "plt.subplot(2,2,1)\n",
    "plt.plot(y[:,0], y[:,1], 'b.')\n",
    "plt.plot(mu[0], mu[1], 'ro')\n",
    "plt.ylabel('y[1]')\n",
    "plt.axis('equal')\n",
    "plt.grid(True)\n",
    "\n",
    "plt.subplot(2,2,3)\n",
    "plt.plot(y[:,0], y[:,2], 'b.')\n",
    "plt.plot(mu[0], mu[2], 'ro')\n",
    "plt.xlabel('y[0]')\n",
    "plt.ylabel('y[2]')\n",
    "plt.axis('equal')\n",
    "plt.grid(True)\n",
    "\n",
    "plt.subplot(2,2,4)\n",
    "plt.plot(y[:,1], y[:,2], 'b.')\n",
    "plt.plot(mu[1], mu[2], 'ro')\n",
    "plt.xlabel('y[1]')\n",
    "plt.axis('equal')\n",
    "plt.grid(True)\n",
    "\n",
    "plt.show()"
   ]
  }
 ],
 "metadata": {
  "interpreter": {
   "hash": "7a0111abb8cb4d9e1efbbfc4608b823f567bb622146a1c30686fac06361581cd"
  },
  "kernelspec": {
   "display_name": "Python 3.8.8 64-bit ('base': conda)",
   "language": "python",
   "name": "python3"
  },
  "language_info": {
   "codemirror_mode": {
    "name": "ipython",
    "version": 3
   },
   "file_extension": ".py",
   "mimetype": "text/x-python",
   "name": "python",
   "nbconvert_exporter": "python",
   "pygments_lexer": "ipython3",
   "version": "3.8.8"
  },
  "orig_nbformat": 4
 },
 "nbformat": 4,
 "nbformat_minor": 2
}
